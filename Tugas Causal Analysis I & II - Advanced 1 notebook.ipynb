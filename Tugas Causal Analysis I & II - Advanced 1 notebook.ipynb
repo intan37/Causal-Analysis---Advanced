{
  "nbformat": 4,
  "nbformat_minor": 0,
  "metadata": {
    "colab": {
      "name": "Tugas Causal Analysis I & II - Advanced 1 notebook.ipynb",
      "provenance": [],
      "collapsed_sections": [],
      "toc_visible": true
    },
    "kernelspec": {
      "name": "python3",
      "display_name": "Python 3"
    },
    "language_info": {
      "name": "python"
    }
  },
  "cells": [
    {
      "cell_type": "markdown",
      "source": [
        "# Install and Load Packages"
      ],
      "metadata": {
        "id": "UwZDkBxd6rs9"
      }
    },
    {
      "cell_type": "code",
      "source": [
        "!pip install econml"
      ],
      "metadata": {
        "id": "-0NoT5ONlFf7",
        "colab": {
          "base_uri": "https://localhost:8080/"
        },
        "outputId": "661d6f8b-d4f4-4140-dc29-380bf456bdb2"
      },
      "execution_count": 1,
      "outputs": [
        {
          "output_type": "stream",
          "name": "stdout",
          "text": [
            "Requirement already satisfied: econml in /usr/local/lib/python3.7/dist-packages (0.13.0)\n",
            "Requirement already satisfied: sparse in /usr/local/lib/python3.7/dist-packages (from econml) (0.13.0)\n",
            "Requirement already satisfied: joblib>=0.13.0 in /usr/local/lib/python3.7/dist-packages (from econml) (1.1.0)\n",
            "Requirement already satisfied: scikit-learn>0.22.0 in /usr/local/lib/python3.7/dist-packages (from econml) (1.0.2)\n",
            "Requirement already satisfied: shap<0.40.0,>=0.38.1 in /usr/local/lib/python3.7/dist-packages (from econml) (0.39.0)\n",
            "Requirement already satisfied: lightgbm in /usr/local/lib/python3.7/dist-packages (from econml) (2.2.3)\n",
            "Requirement already satisfied: pandas in /usr/local/lib/python3.7/dist-packages (from econml) (1.3.5)\n",
            "Requirement already satisfied: dowhy<0.7 in /usr/local/lib/python3.7/dist-packages (from econml) (0.6)\n",
            "Requirement already satisfied: statsmodels>=0.10 in /usr/local/lib/python3.7/dist-packages (from econml) (0.10.2)\n",
            "Requirement already satisfied: scipy>1.4.0 in /usr/local/lib/python3.7/dist-packages (from econml) (1.4.1)\n",
            "Requirement already satisfied: numpy in /usr/local/lib/python3.7/dist-packages (from econml) (1.21.6)\n",
            "Requirement already satisfied: networkx>=2.0 in /usr/local/lib/python3.7/dist-packages (from dowhy<0.7->econml) (2.6.3)\n",
            "Requirement already satisfied: pydot>=1.4 in /usr/local/lib/python3.7/dist-packages (from dowhy<0.7->econml) (1.4.2)\n",
            "Requirement already satisfied: sympy>=1.4 in /usr/local/lib/python3.7/dist-packages (from dowhy<0.7->econml) (1.7.1)\n",
            "Requirement already satisfied: pytz>=2017.3 in /usr/local/lib/python3.7/dist-packages (from pandas->econml) (2022.1)\n",
            "Requirement already satisfied: python-dateutil>=2.7.3 in /usr/local/lib/python3.7/dist-packages (from pandas->econml) (2.8.2)\n",
            "Requirement already satisfied: pyparsing>=2.1.4 in /usr/local/lib/python3.7/dist-packages (from pydot>=1.4->dowhy<0.7->econml) (3.0.8)\n",
            "Requirement already satisfied: six>=1.5 in /usr/local/lib/python3.7/dist-packages (from python-dateutil>=2.7.3->pandas->econml) (1.15.0)\n",
            "Requirement already satisfied: threadpoolctl>=2.0.0 in /usr/local/lib/python3.7/dist-packages (from scikit-learn>0.22.0->econml) (3.1.0)\n",
            "Requirement already satisfied: cloudpickle in /usr/local/lib/python3.7/dist-packages (from shap<0.40.0,>=0.38.1->econml) (1.3.0)\n",
            "Requirement already satisfied: numba in /usr/local/lib/python3.7/dist-packages (from shap<0.40.0,>=0.38.1->econml) (0.51.2)\n",
            "Requirement already satisfied: tqdm>4.25.0 in /usr/local/lib/python3.7/dist-packages (from shap<0.40.0,>=0.38.1->econml) (4.64.0)\n",
            "Requirement already satisfied: slicer==0.0.7 in /usr/local/lib/python3.7/dist-packages (from shap<0.40.0,>=0.38.1->econml) (0.0.7)\n",
            "Requirement already satisfied: patsy>=0.4.0 in /usr/local/lib/python3.7/dist-packages (from statsmodels>=0.10->econml) (0.5.2)\n",
            "Requirement already satisfied: mpmath>=0.19 in /usr/local/lib/python3.7/dist-packages (from sympy>=1.4->dowhy<0.7->econml) (1.2.1)\n",
            "Requirement already satisfied: setuptools in /usr/local/lib/python3.7/dist-packages (from numba->shap<0.40.0,>=0.38.1->econml) (57.4.0)\n",
            "Requirement already satisfied: llvmlite<0.35,>=0.34.0.dev0 in /usr/local/lib/python3.7/dist-packages (from numba->shap<0.40.0,>=0.38.1->econml) (0.34.0)\n"
          ]
        }
      ]
    },
    {
      "cell_type": "code",
      "source": [
        "# data exploration package\n",
        "import numpy as np\n",
        "import pandas as pd\n",
        "import pandas as pd\n",
        "import numpy as np\n",
        "from matplotlib import pyplot as plt\n",
        "import seaborn as sns\n",
        "\n",
        "# scikit learn\n",
        "from sklearn.linear_model import ElasticNetCV, LinearRegression\n",
        "from sklearn.ensemble import GradientBoostingRegressor, RandomForestRegressor, RandomForestClassifier\n",
        "from sklearn.tree import DecisionTreeRegressor\n",
        "\n",
        "# econml\n",
        "from econml.dml import DML\n",
        "from econml.metalearners import TLearner, SLearner, XLearner"
      ],
      "metadata": {
        "id": "d_N2TbZ7lJwg",
        "colab": {
          "base_uri": "https://localhost:8080/"
        },
        "outputId": "730b5a30-a904-4886-c37c-30fc4461bd06"
      },
      "execution_count": 2,
      "outputs": [
        {
          "output_type": "stream",
          "name": "stderr",
          "text": [
            "/usr/local/lib/python3.7/dist-packages/statsmodels/tools/_testing.py:19: FutureWarning: pandas.util.testing is deprecated. Use the functions in the public API at pandas.testing instead.\n",
            "  import pandas.util.testing as tm\n"
          ]
        }
      ]
    },
    {
      "cell_type": "markdown",
      "source": [
        "# Load Dataset"
      ],
      "metadata": {
        "id": "uzbEUQPnlyYX"
      }
    },
    {
      "cell_type": "code",
      "source": [
        "# Growth Mindset dataset\n",
        "GrowthMindset = pd.read_csv(\"https://raw.githubusercontent.com/hadimaster65555/dataset_for_teaching/main/dataset/learning_mindset/learning_mindset.csv\")"
      ],
      "metadata": {
        "id": "GVxOXWY0l2fS"
      },
      "execution_count": 3,
      "outputs": []
    },
    {
      "cell_type": "markdown",
      "source": [
        "# Simple Data Inspection and Exploration"
      ],
      "metadata": {
        "id": "wrRLC-Aoogdh"
      }
    },
    {
      "cell_type": "code",
      "source": [
        "GrowthMindset.head()"
      ],
      "metadata": {
        "colab": {
          "base_uri": "https://localhost:8080/",
          "height": 270
        },
        "id": "EumUlXs9YQEk",
        "outputId": "2cb885e4-3a7d-4773-e5c7-deecfcfa02b2"
      },
      "execution_count": 4,
      "outputs": [
        {
          "output_type": "execute_result",
          "data": {
            "text/plain": [
              "   schoolid  intervention  achievement_score  success_expect  ethnicity  \\\n",
              "0        76             1           0.277359               6          4   \n",
              "1        76             1          -0.449646               4         12   \n",
              "2        76             1           0.769703               6          4   \n",
              "3        76             1          -0.121763               6          4   \n",
              "4        76             1           1.526147               6          4   \n",
              "\n",
              "   gender  frst_in_family  school_urbanicity  school_mindset  \\\n",
              "0       2               1                  4        0.334544   \n",
              "1       2               1                  4        0.334544   \n",
              "2       2               0                  4        0.334544   \n",
              "3       2               0                  4        0.334544   \n",
              "4       1               0                  4        0.334544   \n",
              "\n",
              "   school_achievement  school_ethnic_minority  school_poverty  school_size  \n",
              "0            0.648586               -1.310927        0.224077    -0.426757  \n",
              "1            0.648586               -1.310927        0.224077    -0.426757  \n",
              "2            0.648586               -1.310927        0.224077    -0.426757  \n",
              "3            0.648586               -1.310927        0.224077    -0.426757  \n",
              "4            0.648586               -1.310927        0.224077    -0.426757  "
            ],
            "text/html": [
              "\n",
              "  <div id=\"df-be2aaa25-fc9d-428d-8089-936fd53d3119\">\n",
              "    <div class=\"colab-df-container\">\n",
              "      <div>\n",
              "<style scoped>\n",
              "    .dataframe tbody tr th:only-of-type {\n",
              "        vertical-align: middle;\n",
              "    }\n",
              "\n",
              "    .dataframe tbody tr th {\n",
              "        vertical-align: top;\n",
              "    }\n",
              "\n",
              "    .dataframe thead th {\n",
              "        text-align: right;\n",
              "    }\n",
              "</style>\n",
              "<table border=\"1\" class=\"dataframe\">\n",
              "  <thead>\n",
              "    <tr style=\"text-align: right;\">\n",
              "      <th></th>\n",
              "      <th>schoolid</th>\n",
              "      <th>intervention</th>\n",
              "      <th>achievement_score</th>\n",
              "      <th>success_expect</th>\n",
              "      <th>ethnicity</th>\n",
              "      <th>gender</th>\n",
              "      <th>frst_in_family</th>\n",
              "      <th>school_urbanicity</th>\n",
              "      <th>school_mindset</th>\n",
              "      <th>school_achievement</th>\n",
              "      <th>school_ethnic_minority</th>\n",
              "      <th>school_poverty</th>\n",
              "      <th>school_size</th>\n",
              "    </tr>\n",
              "  </thead>\n",
              "  <tbody>\n",
              "    <tr>\n",
              "      <th>0</th>\n",
              "      <td>76</td>\n",
              "      <td>1</td>\n",
              "      <td>0.277359</td>\n",
              "      <td>6</td>\n",
              "      <td>4</td>\n",
              "      <td>2</td>\n",
              "      <td>1</td>\n",
              "      <td>4</td>\n",
              "      <td>0.334544</td>\n",
              "      <td>0.648586</td>\n",
              "      <td>-1.310927</td>\n",
              "      <td>0.224077</td>\n",
              "      <td>-0.426757</td>\n",
              "    </tr>\n",
              "    <tr>\n",
              "      <th>1</th>\n",
              "      <td>76</td>\n",
              "      <td>1</td>\n",
              "      <td>-0.449646</td>\n",
              "      <td>4</td>\n",
              "      <td>12</td>\n",
              "      <td>2</td>\n",
              "      <td>1</td>\n",
              "      <td>4</td>\n",
              "      <td>0.334544</td>\n",
              "      <td>0.648586</td>\n",
              "      <td>-1.310927</td>\n",
              "      <td>0.224077</td>\n",
              "      <td>-0.426757</td>\n",
              "    </tr>\n",
              "    <tr>\n",
              "      <th>2</th>\n",
              "      <td>76</td>\n",
              "      <td>1</td>\n",
              "      <td>0.769703</td>\n",
              "      <td>6</td>\n",
              "      <td>4</td>\n",
              "      <td>2</td>\n",
              "      <td>0</td>\n",
              "      <td>4</td>\n",
              "      <td>0.334544</td>\n",
              "      <td>0.648586</td>\n",
              "      <td>-1.310927</td>\n",
              "      <td>0.224077</td>\n",
              "      <td>-0.426757</td>\n",
              "    </tr>\n",
              "    <tr>\n",
              "      <th>3</th>\n",
              "      <td>76</td>\n",
              "      <td>1</td>\n",
              "      <td>-0.121763</td>\n",
              "      <td>6</td>\n",
              "      <td>4</td>\n",
              "      <td>2</td>\n",
              "      <td>0</td>\n",
              "      <td>4</td>\n",
              "      <td>0.334544</td>\n",
              "      <td>0.648586</td>\n",
              "      <td>-1.310927</td>\n",
              "      <td>0.224077</td>\n",
              "      <td>-0.426757</td>\n",
              "    </tr>\n",
              "    <tr>\n",
              "      <th>4</th>\n",
              "      <td>76</td>\n",
              "      <td>1</td>\n",
              "      <td>1.526147</td>\n",
              "      <td>6</td>\n",
              "      <td>4</td>\n",
              "      <td>1</td>\n",
              "      <td>0</td>\n",
              "      <td>4</td>\n",
              "      <td>0.334544</td>\n",
              "      <td>0.648586</td>\n",
              "      <td>-1.310927</td>\n",
              "      <td>0.224077</td>\n",
              "      <td>-0.426757</td>\n",
              "    </tr>\n",
              "  </tbody>\n",
              "</table>\n",
              "</div>\n",
              "      <button class=\"colab-df-convert\" onclick=\"convertToInteractive('df-be2aaa25-fc9d-428d-8089-936fd53d3119')\"\n",
              "              title=\"Convert this dataframe to an interactive table.\"\n",
              "              style=\"display:none;\">\n",
              "        \n",
              "  <svg xmlns=\"http://www.w3.org/2000/svg\" height=\"24px\"viewBox=\"0 0 24 24\"\n",
              "       width=\"24px\">\n",
              "    <path d=\"M0 0h24v24H0V0z\" fill=\"none\"/>\n",
              "    <path d=\"M18.56 5.44l.94 2.06.94-2.06 2.06-.94-2.06-.94-.94-2.06-.94 2.06-2.06.94zm-11 1L8.5 8.5l.94-2.06 2.06-.94-2.06-.94L8.5 2.5l-.94 2.06-2.06.94zm10 10l.94 2.06.94-2.06 2.06-.94-2.06-.94-.94-2.06-.94 2.06-2.06.94z\"/><path d=\"M17.41 7.96l-1.37-1.37c-.4-.4-.92-.59-1.43-.59-.52 0-1.04.2-1.43.59L10.3 9.45l-7.72 7.72c-.78.78-.78 2.05 0 2.83L4 21.41c.39.39.9.59 1.41.59.51 0 1.02-.2 1.41-.59l7.78-7.78 2.81-2.81c.8-.78.8-2.07 0-2.86zM5.41 20L4 18.59l7.72-7.72 1.47 1.35L5.41 20z\"/>\n",
              "  </svg>\n",
              "      </button>\n",
              "      \n",
              "  <style>\n",
              "    .colab-df-container {\n",
              "      display:flex;\n",
              "      flex-wrap:wrap;\n",
              "      gap: 12px;\n",
              "    }\n",
              "\n",
              "    .colab-df-convert {\n",
              "      background-color: #E8F0FE;\n",
              "      border: none;\n",
              "      border-radius: 50%;\n",
              "      cursor: pointer;\n",
              "      display: none;\n",
              "      fill: #1967D2;\n",
              "      height: 32px;\n",
              "      padding: 0 0 0 0;\n",
              "      width: 32px;\n",
              "    }\n",
              "\n",
              "    .colab-df-convert:hover {\n",
              "      background-color: #E2EBFA;\n",
              "      box-shadow: 0px 1px 2px rgba(60, 64, 67, 0.3), 0px 1px 3px 1px rgba(60, 64, 67, 0.15);\n",
              "      fill: #174EA6;\n",
              "    }\n",
              "\n",
              "    [theme=dark] .colab-df-convert {\n",
              "      background-color: #3B4455;\n",
              "      fill: #D2E3FC;\n",
              "    }\n",
              "\n",
              "    [theme=dark] .colab-df-convert:hover {\n",
              "      background-color: #434B5C;\n",
              "      box-shadow: 0px 1px 3px 1px rgba(0, 0, 0, 0.15);\n",
              "      filter: drop-shadow(0px 1px 2px rgba(0, 0, 0, 0.3));\n",
              "      fill: #FFFFFF;\n",
              "    }\n",
              "  </style>\n",
              "\n",
              "      <script>\n",
              "        const buttonEl =\n",
              "          document.querySelector('#df-be2aaa25-fc9d-428d-8089-936fd53d3119 button.colab-df-convert');\n",
              "        buttonEl.style.display =\n",
              "          google.colab.kernel.accessAllowed ? 'block' : 'none';\n",
              "\n",
              "        async function convertToInteractive(key) {\n",
              "          const element = document.querySelector('#df-be2aaa25-fc9d-428d-8089-936fd53d3119');\n",
              "          const dataTable =\n",
              "            await google.colab.kernel.invokeFunction('convertToInteractive',\n",
              "                                                     [key], {});\n",
              "          if (!dataTable) return;\n",
              "\n",
              "          const docLinkHtml = 'Like what you see? Visit the ' +\n",
              "            '<a target=\"_blank\" href=https://colab.research.google.com/notebooks/data_table.ipynb>data table notebook</a>'\n",
              "            + ' to learn more about interactive tables.';\n",
              "          element.innerHTML = '';\n",
              "          dataTable['output_type'] = 'display_data';\n",
              "          await google.colab.output.renderOutput(dataTable, element);\n",
              "          const docLink = document.createElement('div');\n",
              "          docLink.innerHTML = docLinkHtml;\n",
              "          element.appendChild(docLink);\n",
              "        }\n",
              "      </script>\n",
              "    </div>\n",
              "  </div>\n",
              "  "
            ]
          },
          "metadata": {},
          "execution_count": 4
        }
      ]
    },
    {
      "cell_type": "code",
      "source": [
        "# check email_train data structure\n",
        "GrowthMindset.info()"
      ],
      "metadata": {
        "id": "UnAQ8rlkqI3W",
        "colab": {
          "base_uri": "https://localhost:8080/"
        },
        "outputId": "5fa0bf82-d697-4981-da59-3eb64f0a00ab"
      },
      "execution_count": 5,
      "outputs": [
        {
          "output_type": "stream",
          "name": "stdout",
          "text": [
            "<class 'pandas.core.frame.DataFrame'>\n",
            "RangeIndex: 10391 entries, 0 to 10390\n",
            "Data columns (total 13 columns):\n",
            " #   Column                  Non-Null Count  Dtype  \n",
            "---  ------                  --------------  -----  \n",
            " 0   schoolid                10391 non-null  int64  \n",
            " 1   intervention            10391 non-null  int64  \n",
            " 2   achievement_score       10391 non-null  float64\n",
            " 3   success_expect          10391 non-null  int64  \n",
            " 4   ethnicity               10391 non-null  int64  \n",
            " 5   gender                  10391 non-null  int64  \n",
            " 6   frst_in_family          10391 non-null  int64  \n",
            " 7   school_urbanicity       10391 non-null  int64  \n",
            " 8   school_mindset          10391 non-null  float64\n",
            " 9   school_achievement      10391 non-null  float64\n",
            " 10  school_ethnic_minority  10391 non-null  float64\n",
            " 11  school_poverty          10391 non-null  float64\n",
            " 12  school_size             10391 non-null  float64\n",
            "dtypes: float64(6), int64(7)\n",
            "memory usage: 1.0 MB\n"
          ]
        }
      ]
    },
    {
      "cell_type": "code",
      "source": [
        "# create correlation matrix\n",
        "GrowthMindset.corr()"
      ],
      "metadata": {
        "colab": {
          "base_uri": "https://localhost:8080/",
          "height": 521
        },
        "id": "jHitdAe5ksth",
        "outputId": "e45f1c34-ac6b-4329-a377-125519872088"
      },
      "execution_count": 6,
      "outputs": [
        {
          "output_type": "execute_result",
          "data": {
            "text/plain": [
              "                        schoolid  intervention  achievement_score  \\\n",
              "schoolid                1.000000     -0.004182          -0.078337   \n",
              "intervention           -0.004182      1.000000           0.221328   \n",
              "achievement_score      -0.078337      0.221328           1.000000   \n",
              "success_expect          0.029178      0.058764           0.438577   \n",
              "ethnicity               0.032320     -0.006491           0.000139   \n",
              "gender                  0.006494     -0.025457          -0.159343   \n",
              "frst_in_family         -0.085124     -0.045140          -0.130520   \n",
              "school_urbanicity       0.141227      0.005762           0.051367   \n",
              "school_mindset          0.000552     -0.046095          -0.110801   \n",
              "school_achievement      0.044772      0.027903           0.021556   \n",
              "school_ethnic_minority -0.229099     -0.002262           0.056961   \n",
              "school_poverty          0.121768     -0.011672           0.013696   \n",
              "school_size             0.079114      0.034252           0.059052   \n",
              "\n",
              "                        success_expect  ethnicity    gender  frst_in_family  \\\n",
              "schoolid                      0.029178   0.032320  0.006494       -0.085124   \n",
              "intervention                  0.058764  -0.006491 -0.025457       -0.045140   \n",
              "achievement_score             0.438577   0.000139 -0.159343       -0.130520   \n",
              "success_expect                1.000000  -0.033818 -0.043800       -0.149084   \n",
              "ethnicity                    -0.033818   1.000000 -0.017338       -0.009889   \n",
              "gender                       -0.043800  -0.017338  1.000000        0.000372   \n",
              "frst_in_family               -0.149084  -0.009889  0.000372        1.000000   \n",
              "school_urbanicity            -0.029627  -0.000911  0.008840        0.030136   \n",
              "school_mindset               -0.054207   0.008969  0.015976        0.201116   \n",
              "school_achievement            0.074006   0.009208  0.001371       -0.216939   \n",
              "school_ethnic_minority       -0.079199  -0.040645  0.002369        0.153095   \n",
              "school_poverty               -0.052548  -0.009580  0.005535        0.066207   \n",
              "school_size                   0.047694  -0.033485  0.005958       -0.183997   \n",
              "\n",
              "                        school_urbanicity  school_mindset  school_achievement  \\\n",
              "schoolid                         0.141227        0.000552            0.044772   \n",
              "intervention                     0.005762       -0.046095            0.027903   \n",
              "achievement_score                0.051367       -0.110801            0.021556   \n",
              "success_expect                  -0.029627       -0.054207            0.074006   \n",
              "ethnicity                       -0.000911        0.008969            0.009208   \n",
              "gender                           0.008840        0.015976            0.001371   \n",
              "frst_in_family                   0.030136        0.201116           -0.216939   \n",
              "school_urbanicity                1.000000        0.214805           -0.201385   \n",
              "school_mindset                   0.214805        1.000000           -0.573798   \n",
              "school_achievement              -0.201385       -0.573798            1.000000   \n",
              "school_ethnic_minority           0.214983        0.253989           -0.478682   \n",
              "school_poverty                   0.401507        0.262739           -0.423915   \n",
              "school_size                      0.123807       -0.492287            0.478073   \n",
              "\n",
              "                        school_ethnic_minority  school_poverty  school_size  \n",
              "schoolid                             -0.229099        0.121768     0.079114  \n",
              "intervention                         -0.002262       -0.011672     0.034252  \n",
              "achievement_score                     0.056961        0.013696     0.059052  \n",
              "success_expect                       -0.079199       -0.052548     0.047694  \n",
              "ethnicity                            -0.040645       -0.009580    -0.033485  \n",
              "gender                                0.002369        0.005535     0.005958  \n",
              "frst_in_family                        0.153095        0.066207    -0.183997  \n",
              "school_urbanicity                     0.214983        0.401507     0.123807  \n",
              "school_mindset                        0.253989        0.262739    -0.492287  \n",
              "school_achievement                   -0.478682       -0.423915     0.478073  \n",
              "school_ethnic_minority                1.000000        0.421047    -0.012760  \n",
              "school_poverty                        0.421047        1.000000    -0.115950  \n",
              "school_size                          -0.012760       -0.115950     1.000000  "
            ],
            "text/html": [
              "\n",
              "  <div id=\"df-c21bafdd-db8e-4c8d-b9d3-275fee03ea8e\">\n",
              "    <div class=\"colab-df-container\">\n",
              "      <div>\n",
              "<style scoped>\n",
              "    .dataframe tbody tr th:only-of-type {\n",
              "        vertical-align: middle;\n",
              "    }\n",
              "\n",
              "    .dataframe tbody tr th {\n",
              "        vertical-align: top;\n",
              "    }\n",
              "\n",
              "    .dataframe thead th {\n",
              "        text-align: right;\n",
              "    }\n",
              "</style>\n",
              "<table border=\"1\" class=\"dataframe\">\n",
              "  <thead>\n",
              "    <tr style=\"text-align: right;\">\n",
              "      <th></th>\n",
              "      <th>schoolid</th>\n",
              "      <th>intervention</th>\n",
              "      <th>achievement_score</th>\n",
              "      <th>success_expect</th>\n",
              "      <th>ethnicity</th>\n",
              "      <th>gender</th>\n",
              "      <th>frst_in_family</th>\n",
              "      <th>school_urbanicity</th>\n",
              "      <th>school_mindset</th>\n",
              "      <th>school_achievement</th>\n",
              "      <th>school_ethnic_minority</th>\n",
              "      <th>school_poverty</th>\n",
              "      <th>school_size</th>\n",
              "    </tr>\n",
              "  </thead>\n",
              "  <tbody>\n",
              "    <tr>\n",
              "      <th>schoolid</th>\n",
              "      <td>1.000000</td>\n",
              "      <td>-0.004182</td>\n",
              "      <td>-0.078337</td>\n",
              "      <td>0.029178</td>\n",
              "      <td>0.032320</td>\n",
              "      <td>0.006494</td>\n",
              "      <td>-0.085124</td>\n",
              "      <td>0.141227</td>\n",
              "      <td>0.000552</td>\n",
              "      <td>0.044772</td>\n",
              "      <td>-0.229099</td>\n",
              "      <td>0.121768</td>\n",
              "      <td>0.079114</td>\n",
              "    </tr>\n",
              "    <tr>\n",
              "      <th>intervention</th>\n",
              "      <td>-0.004182</td>\n",
              "      <td>1.000000</td>\n",
              "      <td>0.221328</td>\n",
              "      <td>0.058764</td>\n",
              "      <td>-0.006491</td>\n",
              "      <td>-0.025457</td>\n",
              "      <td>-0.045140</td>\n",
              "      <td>0.005762</td>\n",
              "      <td>-0.046095</td>\n",
              "      <td>0.027903</td>\n",
              "      <td>-0.002262</td>\n",
              "      <td>-0.011672</td>\n",
              "      <td>0.034252</td>\n",
              "    </tr>\n",
              "    <tr>\n",
              "      <th>achievement_score</th>\n",
              "      <td>-0.078337</td>\n",
              "      <td>0.221328</td>\n",
              "      <td>1.000000</td>\n",
              "      <td>0.438577</td>\n",
              "      <td>0.000139</td>\n",
              "      <td>-0.159343</td>\n",
              "      <td>-0.130520</td>\n",
              "      <td>0.051367</td>\n",
              "      <td>-0.110801</td>\n",
              "      <td>0.021556</td>\n",
              "      <td>0.056961</td>\n",
              "      <td>0.013696</td>\n",
              "      <td>0.059052</td>\n",
              "    </tr>\n",
              "    <tr>\n",
              "      <th>success_expect</th>\n",
              "      <td>0.029178</td>\n",
              "      <td>0.058764</td>\n",
              "      <td>0.438577</td>\n",
              "      <td>1.000000</td>\n",
              "      <td>-0.033818</td>\n",
              "      <td>-0.043800</td>\n",
              "      <td>-0.149084</td>\n",
              "      <td>-0.029627</td>\n",
              "      <td>-0.054207</td>\n",
              "      <td>0.074006</td>\n",
              "      <td>-0.079199</td>\n",
              "      <td>-0.052548</td>\n",
              "      <td>0.047694</td>\n",
              "    </tr>\n",
              "    <tr>\n",
              "      <th>ethnicity</th>\n",
              "      <td>0.032320</td>\n",
              "      <td>-0.006491</td>\n",
              "      <td>0.000139</td>\n",
              "      <td>-0.033818</td>\n",
              "      <td>1.000000</td>\n",
              "      <td>-0.017338</td>\n",
              "      <td>-0.009889</td>\n",
              "      <td>-0.000911</td>\n",
              "      <td>0.008969</td>\n",
              "      <td>0.009208</td>\n",
              "      <td>-0.040645</td>\n",
              "      <td>-0.009580</td>\n",
              "      <td>-0.033485</td>\n",
              "    </tr>\n",
              "    <tr>\n",
              "      <th>gender</th>\n",
              "      <td>0.006494</td>\n",
              "      <td>-0.025457</td>\n",
              "      <td>-0.159343</td>\n",
              "      <td>-0.043800</td>\n",
              "      <td>-0.017338</td>\n",
              "      <td>1.000000</td>\n",
              "      <td>0.000372</td>\n",
              "      <td>0.008840</td>\n",
              "      <td>0.015976</td>\n",
              "      <td>0.001371</td>\n",
              "      <td>0.002369</td>\n",
              "      <td>0.005535</td>\n",
              "      <td>0.005958</td>\n",
              "    </tr>\n",
              "    <tr>\n",
              "      <th>frst_in_family</th>\n",
              "      <td>-0.085124</td>\n",
              "      <td>-0.045140</td>\n",
              "      <td>-0.130520</td>\n",
              "      <td>-0.149084</td>\n",
              "      <td>-0.009889</td>\n",
              "      <td>0.000372</td>\n",
              "      <td>1.000000</td>\n",
              "      <td>0.030136</td>\n",
              "      <td>0.201116</td>\n",
              "      <td>-0.216939</td>\n",
              "      <td>0.153095</td>\n",
              "      <td>0.066207</td>\n",
              "      <td>-0.183997</td>\n",
              "    </tr>\n",
              "    <tr>\n",
              "      <th>school_urbanicity</th>\n",
              "      <td>0.141227</td>\n",
              "      <td>0.005762</td>\n",
              "      <td>0.051367</td>\n",
              "      <td>-0.029627</td>\n",
              "      <td>-0.000911</td>\n",
              "      <td>0.008840</td>\n",
              "      <td>0.030136</td>\n",
              "      <td>1.000000</td>\n",
              "      <td>0.214805</td>\n",
              "      <td>-0.201385</td>\n",
              "      <td>0.214983</td>\n",
              "      <td>0.401507</td>\n",
              "      <td>0.123807</td>\n",
              "    </tr>\n",
              "    <tr>\n",
              "      <th>school_mindset</th>\n",
              "      <td>0.000552</td>\n",
              "      <td>-0.046095</td>\n",
              "      <td>-0.110801</td>\n",
              "      <td>-0.054207</td>\n",
              "      <td>0.008969</td>\n",
              "      <td>0.015976</td>\n",
              "      <td>0.201116</td>\n",
              "      <td>0.214805</td>\n",
              "      <td>1.000000</td>\n",
              "      <td>-0.573798</td>\n",
              "      <td>0.253989</td>\n",
              "      <td>0.262739</td>\n",
              "      <td>-0.492287</td>\n",
              "    </tr>\n",
              "    <tr>\n",
              "      <th>school_achievement</th>\n",
              "      <td>0.044772</td>\n",
              "      <td>0.027903</td>\n",
              "      <td>0.021556</td>\n",
              "      <td>0.074006</td>\n",
              "      <td>0.009208</td>\n",
              "      <td>0.001371</td>\n",
              "      <td>-0.216939</td>\n",
              "      <td>-0.201385</td>\n",
              "      <td>-0.573798</td>\n",
              "      <td>1.000000</td>\n",
              "      <td>-0.478682</td>\n",
              "      <td>-0.423915</td>\n",
              "      <td>0.478073</td>\n",
              "    </tr>\n",
              "    <tr>\n",
              "      <th>school_ethnic_minority</th>\n",
              "      <td>-0.229099</td>\n",
              "      <td>-0.002262</td>\n",
              "      <td>0.056961</td>\n",
              "      <td>-0.079199</td>\n",
              "      <td>-0.040645</td>\n",
              "      <td>0.002369</td>\n",
              "      <td>0.153095</td>\n",
              "      <td>0.214983</td>\n",
              "      <td>0.253989</td>\n",
              "      <td>-0.478682</td>\n",
              "      <td>1.000000</td>\n",
              "      <td>0.421047</td>\n",
              "      <td>-0.012760</td>\n",
              "    </tr>\n",
              "    <tr>\n",
              "      <th>school_poverty</th>\n",
              "      <td>0.121768</td>\n",
              "      <td>-0.011672</td>\n",
              "      <td>0.013696</td>\n",
              "      <td>-0.052548</td>\n",
              "      <td>-0.009580</td>\n",
              "      <td>0.005535</td>\n",
              "      <td>0.066207</td>\n",
              "      <td>0.401507</td>\n",
              "      <td>0.262739</td>\n",
              "      <td>-0.423915</td>\n",
              "      <td>0.421047</td>\n",
              "      <td>1.000000</td>\n",
              "      <td>-0.115950</td>\n",
              "    </tr>\n",
              "    <tr>\n",
              "      <th>school_size</th>\n",
              "      <td>0.079114</td>\n",
              "      <td>0.034252</td>\n",
              "      <td>0.059052</td>\n",
              "      <td>0.047694</td>\n",
              "      <td>-0.033485</td>\n",
              "      <td>0.005958</td>\n",
              "      <td>-0.183997</td>\n",
              "      <td>0.123807</td>\n",
              "      <td>-0.492287</td>\n",
              "      <td>0.478073</td>\n",
              "      <td>-0.012760</td>\n",
              "      <td>-0.115950</td>\n",
              "      <td>1.000000</td>\n",
              "    </tr>\n",
              "  </tbody>\n",
              "</table>\n",
              "</div>\n",
              "      <button class=\"colab-df-convert\" onclick=\"convertToInteractive('df-c21bafdd-db8e-4c8d-b9d3-275fee03ea8e')\"\n",
              "              title=\"Convert this dataframe to an interactive table.\"\n",
              "              style=\"display:none;\">\n",
              "        \n",
              "  <svg xmlns=\"http://www.w3.org/2000/svg\" height=\"24px\"viewBox=\"0 0 24 24\"\n",
              "       width=\"24px\">\n",
              "    <path d=\"M0 0h24v24H0V0z\" fill=\"none\"/>\n",
              "    <path d=\"M18.56 5.44l.94 2.06.94-2.06 2.06-.94-2.06-.94-.94-2.06-.94 2.06-2.06.94zm-11 1L8.5 8.5l.94-2.06 2.06-.94-2.06-.94L8.5 2.5l-.94 2.06-2.06.94zm10 10l.94 2.06.94-2.06 2.06-.94-2.06-.94-.94-2.06-.94 2.06-2.06.94z\"/><path d=\"M17.41 7.96l-1.37-1.37c-.4-.4-.92-.59-1.43-.59-.52 0-1.04.2-1.43.59L10.3 9.45l-7.72 7.72c-.78.78-.78 2.05 0 2.83L4 21.41c.39.39.9.59 1.41.59.51 0 1.02-.2 1.41-.59l7.78-7.78 2.81-2.81c.8-.78.8-2.07 0-2.86zM5.41 20L4 18.59l7.72-7.72 1.47 1.35L5.41 20z\"/>\n",
              "  </svg>\n",
              "      </button>\n",
              "      \n",
              "  <style>\n",
              "    .colab-df-container {\n",
              "      display:flex;\n",
              "      flex-wrap:wrap;\n",
              "      gap: 12px;\n",
              "    }\n",
              "\n",
              "    .colab-df-convert {\n",
              "      background-color: #E8F0FE;\n",
              "      border: none;\n",
              "      border-radius: 50%;\n",
              "      cursor: pointer;\n",
              "      display: none;\n",
              "      fill: #1967D2;\n",
              "      height: 32px;\n",
              "      padding: 0 0 0 0;\n",
              "      width: 32px;\n",
              "    }\n",
              "\n",
              "    .colab-df-convert:hover {\n",
              "      background-color: #E2EBFA;\n",
              "      box-shadow: 0px 1px 2px rgba(60, 64, 67, 0.3), 0px 1px 3px 1px rgba(60, 64, 67, 0.15);\n",
              "      fill: #174EA6;\n",
              "    }\n",
              "\n",
              "    [theme=dark] .colab-df-convert {\n",
              "      background-color: #3B4455;\n",
              "      fill: #D2E3FC;\n",
              "    }\n",
              "\n",
              "    [theme=dark] .colab-df-convert:hover {\n",
              "      background-color: #434B5C;\n",
              "      box-shadow: 0px 1px 3px 1px rgba(0, 0, 0, 0.15);\n",
              "      filter: drop-shadow(0px 1px 2px rgba(0, 0, 0, 0.3));\n",
              "      fill: #FFFFFF;\n",
              "    }\n",
              "  </style>\n",
              "\n",
              "      <script>\n",
              "        const buttonEl =\n",
              "          document.querySelector('#df-c21bafdd-db8e-4c8d-b9d3-275fee03ea8e button.colab-df-convert');\n",
              "        buttonEl.style.display =\n",
              "          google.colab.kernel.accessAllowed ? 'block' : 'none';\n",
              "\n",
              "        async function convertToInteractive(key) {\n",
              "          const element = document.querySelector('#df-c21bafdd-db8e-4c8d-b9d3-275fee03ea8e');\n",
              "          const dataTable =\n",
              "            await google.colab.kernel.invokeFunction('convertToInteractive',\n",
              "                                                     [key], {});\n",
              "          if (!dataTable) return;\n",
              "\n",
              "          const docLinkHtml = 'Like what you see? Visit the ' +\n",
              "            '<a target=\"_blank\" href=https://colab.research.google.com/notebooks/data_table.ipynb>data table notebook</a>'\n",
              "            + ' to learn more about interactive tables.';\n",
              "          element.innerHTML = '';\n",
              "          dataTable['output_type'] = 'display_data';\n",
              "          await google.colab.output.renderOutput(dataTable, element);\n",
              "          const docLink = document.createElement('div');\n",
              "          docLink.innerHTML = docLinkHtml;\n",
              "          element.appendChild(docLink);\n",
              "        }\n",
              "      </script>\n",
              "    </div>\n",
              "  </div>\n",
              "  "
            ]
          },
          "metadata": {},
          "execution_count": 6
        }
      ]
    },
    {
      "cell_type": "markdown",
      "source": [
        "**Tentukan mana variabel yang menjadi covariate (X), treatment (T), dan response (Y). Berikan alasan mengapa anda memilih variabel tertentu sebagai kovariat**\n",
        "\n",
        "*   treatment (T) : Saya memilih variabel \"intervention\" karena definisi variabel tersebut adalah apakah siswa dididik tentang \"growth mindset\" atau tidak sesuai dengan soal yang untuk membuktikan bahwa mengajarkan growth mindset akan meningkatkan prestasi akademis.\n",
        "*   response (Y) : Saya memilih variabel \"achievement_score\" karena ingin mengukur bagaimana prestasi mereka secara akademik\n",
        "*   covariate (X) : Saya memilih variabel \"success_expect\", \"school_urbanicity\", \"school_ethnic_minority\", \"school_size\" karena variabel tersebut memiliki korelasi yang cukup tinggi terhadap variabel response (y)\n",
        "\n",
        "\n",
        "\n",
        "\n"
      ],
      "metadata": {
        "id": "ewMTXp1V25he"
      }
    },
    {
      "cell_type": "markdown",
      "source": [
        "**Tentukan model apa yang anda gunakan dan jelaskan mengapa model itu yang anda pilih (anda bebas menentukan apakah ingin menggunakan propensity score modeling, DML, atau meta-learner, cukup pilih salah satu)**\n",
        "\n",
        "Model yang saya gunakan adalah Double Machine Learning karena hanya mengukur dampak dari intervensi secara keseluruhan bukan dari tiap unit data, type treatmentnya categorical, outcomenya binary."
      ],
      "metadata": {
        "id": "OjwDtK1D7qb3"
      }
    },
    {
      "cell_type": "markdown",
      "source": [
        "# Double Machine Learning"
      ],
      "metadata": {
        "id": "8r6d_D7nqWwX"
      }
    },
    {
      "cell_type": "markdown",
      "source": [
        "## Data Setup"
      ],
      "metadata": {
        "id": "W7Yv4xSSrH2l"
      }
    },
    {
      "cell_type": "code",
      "source": [
        "# outcome\n",
        "y = \"achievement_score\"\n",
        "# treatment\n",
        "T = \"intervention\"\n",
        "# covariates\n",
        "X = [\"success_expect\", \"school_urbanicity\", \"school_ethnic_minority\", \"school_size\"]"
      ],
      "metadata": {
        "id": "mGgBGnIfrFai"
      },
      "execution_count": 7,
      "outputs": []
    },
    {
      "cell_type": "markdown",
      "source": [
        "## Modeling"
      ],
      "metadata": {
        "id": "Uc727yURrxiI"
      }
    },
    {
      "cell_type": "code",
      "source": [
        "# define DML Object\n",
        "dml_est = DML(\n",
        "    model_y = GradientBoostingRegressor(n_estimators=100, random_state = 1000),\n",
        "    model_t = GradientBoostingRegressor(n_estimators=100, random_state = 1000),\n",
        "    model_final = LinearRegression(fit_intercept=False),\n",
        "    random_state = 1000\n",
        ")"
      ],
      "metadata": {
        "id": "yWlomPcSrzJD"
      },
      "execution_count": 8,
      "outputs": []
    },
    {
      "cell_type": "code",
      "source": [
        "# fit estimator to train data\n",
        "np.random.seed(1000)\n",
        "dml_est.fit(GrowthMindset[y], T = GrowthMindset[T], X = GrowthMindset[X], inference=\"bootstrap\")"
      ],
      "metadata": {
        "id": "QSsosS6WsIbV",
        "colab": {
          "base_uri": "https://localhost:8080/"
        },
        "outputId": "f3894b3f-4a25-4a33-a094-965ed1003d18"
      },
      "execution_count": 9,
      "outputs": [
        {
          "output_type": "execute_result",
          "data": {
            "text/plain": [
              "<econml.dml.dml.DML at 0x7f3e1c597550>"
            ]
          },
          "metadata": {},
          "execution_count": 9
        }
      ]
    },
    {
      "cell_type": "code",
      "source": [
        "dml_est.summary()"
      ],
      "metadata": {
        "id": "CgcG_1gzuWmV",
        "colab": {
          "base_uri": "https://localhost:8080/",
          "height": 362
        },
        "outputId": "9871e048-8910-480d-c15e-91011dbfafd7"
      },
      "execution_count": 10,
      "outputs": [
        {
          "output_type": "execute_result",
          "data": {
            "text/plain": [
              "<class 'econml.utilities.Summary'>\n",
              "\"\"\"\n",
              "                            Coefficient Results                             \n",
              "============================================================================\n",
              "                       point_estimate stderr zstat  pvalue ci_lower ci_upper\n",
              "----------------------------------------------------------------------------\n",
              "success_expect                  0.019  0.015  1.289   0.15   -0.013    0.042\n",
              "school_urbanicity              -0.001  0.013 -0.081    0.4   -0.023    0.025\n",
              "school_ethnic_minority          0.003  0.019  0.158   0.47   -0.037    0.033\n",
              "school_size                     0.042  0.015  2.756    0.0    0.004    0.066\n",
              "                       CATE Intercept Results                      \n",
              "===================================================================\n",
              "               point_estimate stderr zstat pvalue ci_lower ci_upper\n",
              "-------------------------------------------------------------------\n",
              "cate_intercept          0.303  0.085 3.557    0.0    0.155    0.467\n",
              "-------------------------------------------------------------------\n",
              "\n",
              "<sub>A linear parametric conditional average treatment effect (CATE) model was fitted:\n",
              "$Y = \\Theta(X)\\cdot T + g(X, W) + \\epsilon$\n",
              "where for every outcome $i$ and treatment $j$ the CATE $\\Theta_{ij}(X)$ has the form:\n",
              "$\\Theta_{ij}(X) = \\phi(X)' coef_{ij} + cate\\_intercept_{ij}$\n",
              "where $\\phi(X)$ is the output of the `featurizer` or $X$ if `featurizer`=None. Coefficient Results table portrays the $coef_{ij}$ parameter vector for each outcome $i$ and treatment $j$. Intercept Results table portrays the $cate\\_intercept_{ij}$ parameter.</sub>\n",
              "\"\"\""
            ],
            "text/html": [
              "<table class=\"simpletable\">\n",
              "<caption>Coefficient Results</caption>\n",
              "<tr>\n",
              "             <td></td>            <th>point_estimate</th> <th>stderr</th>  <th>zstat</th> <th>pvalue</th> <th>ci_lower</th> <th>ci_upper</th>\n",
              "</tr>\n",
              "<tr>\n",
              "  <th>success_expect</th>              <td>0.019</td>      <td>0.015</td>  <td>1.289</td>  <td>0.15</td>   <td>-0.013</td>    <td>0.042</td> \n",
              "</tr>\n",
              "<tr>\n",
              "  <th>school_urbanicity</th>          <td>-0.001</td>      <td>0.013</td> <td>-0.081</td>   <td>0.4</td>   <td>-0.023</td>    <td>0.025</td> \n",
              "</tr>\n",
              "<tr>\n",
              "  <th>school_ethnic_minority</th>      <td>0.003</td>      <td>0.019</td>  <td>0.158</td>  <td>0.47</td>   <td>-0.037</td>    <td>0.033</td> \n",
              "</tr>\n",
              "<tr>\n",
              "  <th>school_size</th>                 <td>0.042</td>      <td>0.015</td>  <td>2.756</td>   <td>0.0</td>    <td>0.004</td>    <td>0.066</td> \n",
              "</tr>\n",
              "</table>\n",
              "<table class=\"simpletable\">\n",
              "<caption>CATE Intercept Results</caption>\n",
              "<tr>\n",
              "         <td></td>        <th>point_estimate</th> <th>stderr</th> <th>zstat</th> <th>pvalue</th> <th>ci_lower</th> <th>ci_upper</th>\n",
              "</tr>\n",
              "<tr>\n",
              "  <th>cate_intercept</th>      <td>0.303</td>      <td>0.085</td> <td>3.557</td>   <td>0.0</td>    <td>0.155</td>    <td>0.467</td> \n",
              "</tr>\n",
              "</table><br/><br/><sub>A linear parametric conditional average treatment effect (CATE) model was fitted:<br/>$Y = \\Theta(X)\\cdot T + g(X, W) + \\epsilon$<br/>where for every outcome $i$ and treatment $j$ the CATE $\\Theta_{ij}(X)$ has the form:<br/>$\\Theta_{ij}(X) = \\phi(X)' coef_{ij} + cate\\_intercept_{ij}$<br/>where $\\phi(X)$ is the output of the `featurizer` or $X$ if `featurizer`=None. Coefficient Results table portrays the $coef_{ij}$ parameter vector for each outcome $i$ and treatment $j$. Intercept Results table portrays the $cate\\_intercept_{ij}$ parameter.</sub>"
            ]
          },
          "metadata": {},
          "execution_count": 10
        }
      ]
    },
    {
      "cell_type": "markdown",
      "source": [
        "*   success_expect berdampak positif sebesar 0.019 tetapi secara statistik tidak signifikan. Siswa yang ingin sukses di masa depan pastinya akan berusaha semaksimal mungkin agar prestasi akademiknya bagus.\n",
        "*   school_urbanicity berdampak negatif sebesar -0.001 dan secara statistik tidak signifikan. Siswa yang bersekolah di pedesaan, pinggiran kota, dll berlomba untuk mendapatkan prestasi akademik yang bagus agar bisa melanjutkan ke universitas favorit tidak memandang dimana mereka bersekolah.\n",
        "*   school_ethnic_minority berdampak positif sebesar 0.003 tetapi secara statistik tidak signifikan. Sekolah yang memiliki persentase siswa dari ras minoritas tinggi akan meningkatkan prestasi akademik karena tidak ada kesenjangan di sekolah antara warga minoritas dan siswa kulit putih\n",
        "*   school_size berdampak positif sebesar 0.042 dan signifikan secara statistik. Karena banyaknya jumlah siswa di sekolah, siswa berlomba meningkatkan prestasi akademiknya agar mendapatkan peringkat atas.\n",
        "*   Dampak dari treatmentnya positif sebesar 0.303. Siswa yang diberikan seminar tentang growth mindset akan berdampak positif pada peningkatan prestasi akademik."
      ],
      "metadata": {
        "id": "QTU0saVi_pak"
      }
    },
    {
      "cell_type": "code",
      "source": [
        "# Get treatment effect and its confidence interval\n",
        "te_pred = dml_est.effect(GrowthMindset[X])"
      ],
      "metadata": {
        "id": "XJ763Dlps7rD"
      },
      "execution_count": 11,
      "outputs": []
    },
    {
      "cell_type": "code",
      "source": [
        "# Measure price effect\n",
        "np.mean(te_pred)"
      ],
      "metadata": {
        "id": "blFtamdHyft8",
        "colab": {
          "base_uri": "https://localhost:8080/",
          "height": 37
        },
        "outputId": "8805bb97-b39a-439d-d315-fc3384a1f473"
      },
      "execution_count": 12,
      "outputs": [
        {
          "output_type": "execute_result",
          "data": {
            "text/plain": [
              "0.3996599757820575"
            ],
            "image/png": "[encoded data removed]",
            "text/latex": "$\\displaystyle 0.399659975782057$"
          },
          "metadata": {},
          "execution_count": 12
        }
      ]
    },
    {
      "cell_type": "code",
      "source": [
        "# check treatment effect distribution\n",
        "sns.boxplot(x = te_pred).set_title(\"Treatment Effect Distribution by using DML\");"
      ],
      "metadata": {
        "id": "K3b5Kmq0D2Wv",
        "colab": {
          "base_uri": "https://localhost:8080/",
          "height": 281
        },
        "outputId": "4d7dd8de-7436-4a42-ce45-f763fddf41de"
      },
      "execution_count": 13,
      "outputs": [
        {
          "output_type": "display_data",
          "data": {
            "text/plain": [
              "<Figure size 432x288 with 1 Axes>"
            ],
            "image/png": "[encoded data removed]"
          },
          "metadata": {
            "needs_background": "light"
          }
        }
      ]
    },
    {
      "cell_type": "markdown",
      "source": [
        "**Analisis hasil dari model dengan mengukur dampak dari treatment**\n",
        "\n",
        "Rata-rata dampak dari intervensi sebesar 0.40 artinya mengajarkan growth mindset akan meningkatkan prestasi akademis."
      ],
      "metadata": {
        "id": "7n77VyJa_LQw"
      }
    }
  ]
}